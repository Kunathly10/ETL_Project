{
 "cells": [
  {
   "cell_type": "markdown",
   "id": "5ff9de11-da12-49a4-9dd4-1a5871387d7b",
   "metadata": {
    "tags": []
   },
   "source": [
    "# Objectives\n",
    "\n",
    "In this final part you will:\n",
    "\n",
    "Run the ETL process\n",
    "\n",
    "Extract bank and market cap data from the JSON file bank_market_cap.json\n",
    "\n",
    "Transform the market cap currency using the exchange rate data\n",
    "\n",
    "Load the transformed data into a seperate CSV"
   ]
  },
  {
   "cell_type": "markdown",
   "id": "169408e7-ed1f-41fe-bd09-961ea4d49f02",
   "metadata": {},
   "source": [
    "For this lab, we are going to be using Python and several Python libraries. Some of these libraries might be installed in your lab environment or in SN Labs. Others may need to be installed by you. \n",
    "The cells below will install these libraries when executed."
   ]
  },
  {
   "cell_type": "code",
   "execution_count": 1,
   "id": "9ebd092c-2abc-4456-a9e5-e27a5026c8ad",
   "metadata": {
    "tags": []
   },
   "outputs": [],
   "source": [
    "#!mamba install pandas==1.3.3 -y\n",
    "#!mamba install requests==2.26.0 -y"
   ]
  },
  {
   "cell_type": "markdown",
   "id": "7b48f977-ffb0-476e-8831-3ba951181db3",
   "metadata": {},
   "source": [
    "# Imports\n",
    "Import any additional libraries you may need here."
   ]
  },
  {
   "cell_type": "code",
   "execution_count": 2,
   "id": "e2843ae1-7c0e-498c-b155-bc1a9e776e10",
   "metadata": {
    "tags": []
   },
   "outputs": [],
   "source": [
    "import glob\n",
    "import pandas as pd\n",
    "from datetime import datetime"
   ]
  },
  {
   "cell_type": "markdown",
   "id": "14b2f6e4-6f83-4f0c-a399-3682a85ac89b",
   "metadata": {},
   "source": [
    "        As the exchange rate fluctuates, we will download the same dataset to make marking simpler."
   ]
  },
  {
   "cell_type": "code",
   "execution_count": 6,
   "id": "6cd62a9e-c376-43d6-a78d-bebb82898477",
   "metadata": {
    "tags": []
   },
   "outputs": [
    {
     "name": "stderr",
     "output_type": "stream",
     "text": [
      "--2023-03-17 14:39:51--  https://cf-courses-data.s3.us.cloud-object-storage.appdomain.cloud/IBMDeveloperSkillsNetwork-PY0221EN-SkillsNetwork/labs/module%206/Lab%20-%20Extract%20Transform%20Load/data/bank_market_cap_1.json\n",
      "Resolving cf-courses-data.s3.us.cloud-object-storage.appdomain.cloud (cf-courses-data.s3.us.cloud-object-storage.appdomain.cloud)... 169.63.118.104\n",
      "Connecting to cf-courses-data.s3.us.cloud-object-storage.appdomain.cloud (cf-courses-data.s3.us.cloud-object-storage.appdomain.cloud)|169.63.118.104|:443... connected.\n",
      "HTTP request sent, awaiting response... 200 OK\n",
      "Length: 2815 (2.7K) [application/json]\n",
      "Saving to: 'bank_market_cap_1.json'\n",
      "\n",
      "     0K ..                                                    100% 1.38G=0s\n",
      "\n",
      "2023-03-17 14:39:51 (1.38 GB/s) - 'bank_market_cap_1.json' saved [2815/2815]\n",
      "\n",
      "--2023-03-17 14:39:51--  https://cf-courses-data.s3.us.cloud-object-storage.appdomain.cloud/IBMDeveloperSkillsNetwork-PY0221EN-SkillsNetwork/labs/module%206/Lab%20-%20Extract%20Transform%20Load/data/bank_market_cap_2.json\n",
      "Resolving cf-courses-data.s3.us.cloud-object-storage.appdomain.cloud (cf-courses-data.s3.us.cloud-object-storage.appdomain.cloud)... 169.63.118.104\n",
      "Connecting to cf-courses-data.s3.us.cloud-object-storage.appdomain.cloud (cf-courses-data.s3.us.cloud-object-storage.appdomain.cloud)|169.63.118.104|:443... connected.\n",
      "HTTP request sent, awaiting response... 200 OK\n",
      "Length: 1429 (1.4K) [application/json]\n",
      "Saving to: 'bank_market_cap_2.json'\n",
      "\n",
      "     0K .                                                     100%  359M=0s\n",
      "\n",
      "2023-03-17 14:39:52 (359 MB/s) - 'bank_market_cap_2.json' saved [1429/1429]\n",
      "\n",
      "--2023-03-17 14:39:52--  https://cf-courses-data.s3.us.cloud-object-storage.appdomain.cloud/IBMDeveloperSkillsNetwork-PY0221EN-SkillsNetwork/labs/module%206/Final%20Assignment/exchange_rates.csv\n",
      "Resolving cf-courses-data.s3.us.cloud-object-storage.appdomain.cloud (cf-courses-data.s3.us.cloud-object-storage.appdomain.cloud)... 169.63.118.104\n",
      "Connecting to cf-courses-data.s3.us.cloud-object-storage.appdomain.cloud (cf-courses-data.s3.us.cloud-object-storage.appdomain.cloud)|169.63.118.104|:443... connected.\n",
      "HTTP request sent, awaiting response... 200 OK\n",
      "Length: 590 [text/csv]\n",
      "Saving to: 'exchange_rates.csv'\n",
      "\n",
      "     0K                                                       100%  208M=0s\n",
      "\n",
      "2023-03-17 14:39:53 (208 MB/s) - 'exchange_rates.csv' saved [590/590]\n",
      "\n"
     ]
    }
   ],
   "source": [
    "!wget https://cf-courses-data.s3.us.cloud-object-storage.appdomain.cloud/IBMDeveloperSkillsNetwork-PY0221EN-SkillsNetwork/labs/module%206/Lab%20-%20Extract%20Transform%20Load/data/bank_market_cap_1.json\n",
    "!wget https://cf-courses-data.s3.us.cloud-object-storage.appdomain.cloud/IBMDeveloperSkillsNetwork-PY0221EN-SkillsNetwork/labs/module%206/Lab%20-%20Extract%20Transform%20Load/data/bank_market_cap_2.json\n",
    "!wget https://cf-courses-data.s3.us.cloud-object-storage.appdomain.cloud/IBMDeveloperSkillsNetwork-PY0221EN-SkillsNetwork/labs/module%206/Final%20Assignment/exchange_rates.csv"
   ]
  },
  {
   "cell_type": "code",
   "execution_count": 60,
   "id": "e2f83b6c-f096-4377-907b-b708d44bcb19",
   "metadata": {
    "tags": []
   },
   "outputs": [],
   "source": [
    "columns=['Name','Market Cap (US$ Billion)']"
   ]
  },
  {
   "cell_type": "code",
   "execution_count": 61,
   "id": "812c8c70-b323-4cfb-8377-9d23c2eacefc",
   "metadata": {
    "tags": []
   },
   "outputs": [
    {
     "name": "stdout",
     "output_type": "stream",
     "text": [
      "                                      Name  Market Cap (US$ Billion)\n",
      "0                           JPMorgan Chase                   390.934\n",
      "1  Industrial and Commercial Bank of China                   345.214\n",
      "2                          Bank of America                   325.331\n",
      "3                              Wells Fargo                   308.013\n",
      "4                  China Construction Bank                   257.399\n"
     ]
    }
   ],
   "source": [
    "df1 = pd.read_json('bank_market_cap_1.json')\n",
    "df2 = pd.read_json('bank_market_cap_2.json')\n",
    "df = pd.concat([df1, df2])\n",
    "print(df.head())"
   ]
  },
  {
   "cell_type": "markdown",
   "id": "fff84d12-390f-445e-85a9-d3c385c7c4aa",
   "metadata": {},
   "source": [
    "# Extract\n",
    "JSON Extract Function\n",
    "\n",
    "\n",
    "This function will extract JSON files."
   ]
  },
  {
   "cell_type": "code",
   "execution_count": 11,
   "id": "22cf1742-0c6e-46e5-b7f2-578e8adadc25",
   "metadata": {
    "tags": []
   },
   "outputs": [],
   "source": [
    "import json\n",
    "\n",
    "def extract_json(filename):\n",
    "    with open(filename) as f:\n",
    "        data = json.load(f)\n",
    "    return data\n",
    "data1 = extract_json('bank_market_cap_1.json')\n",
    "data2 = extract_json('bank_market_cap_2.json')"
   ]
  },
  {
   "cell_type": "markdown",
   "id": "5ad5f495-91c6-4024-b50e-e93a84bfe0a6",
   "metadata": {},
   "source": [
    "# Extract Function\n",
    "\n",
    "Define the extract function that finds JSON file bank_market_cap_1.json and calls the function created above to extract data from them. \n",
    "\n",
    "Store the data in a pandas dataframe. Use the following list for the columns."
   ]
  },
  {
   "cell_type": "code",
   "execution_count": 12,
   "id": "9352ac71-ce7e-4168-8413-db3a12b91091",
   "metadata": {
    "tags": []
   },
   "outputs": [],
   "source": [
    "def extract():\n",
    "    json_file = 'bank_market_cap_1.json'\n",
    "    \n",
    "    if os.path.exists(json_file):\n",
    "        with open(json_file) as f:\n",
    "            data = json.load(f)\n",
    "        \n",
    "        # Extract data from JSON file\n",
    "        extracted_data = extract_json_data(data)\n",
    "        \n",
    "        # Store data in a pandas dataframe\n",
    "        columns = ['Bank Name', 'Market Capitalization', 'Country', 'Headquarters']\n",
    "        df = pd.DataFrame(extracted_data, columns=columns)\n",
    "        \n",
    "        return df\n",
    "    else:\n",
    "        print(f\"{json_file} not found.\")"
   ]
  },
  {
   "cell_type": "code",
   "execution_count": 46,
   "id": "d3266076-84d9-48e0-a8a5-139dc0c45df5",
   "metadata": {
    "tags": []
   },
   "outputs": [],
   "source": [
    "import pandas as pd\n",
    "import json\n",
    "import logging\n",
    "\n",
    "logging.basicConfig(level=logging.INFO)\n",
    "\n",
    "def extract_data(data):\n",
    "    extracted_data = []\n",
    "    for company in data:\n",
    "        extracted_data.append([company['Name'], company['Market Cap (US$ Billion)']])\n",
    "    return extracted_data\n",
    "\n",
    "def extract():\n",
    "    file_path = 'bank_market_cap_1.json'\n",
    "    with open(file_path) as f:\n",
    "        data = json.load(f)\n",
    "        extracted_data = extract_data(data['bank_market_cap_1'])\n",
    "        df = pd.DataFrame(extracted_data, columns=['Name', 'Market Cap (US$ Billion)'])\n",
    "        return df\n",
    "    \n",
    "def transform(data):\n",
    "    transformed_data = data.copy()\n",
    "    transformed_data['Market Cap (US$ Billion)'] = transformed_data['Market Cap (US$ Billion)'] / 1000\n",
    "    return transformed_data"
   ]
  },
  {
   "cell_type": "markdown",
   "id": "1211c272-d0e8-464f-b01c-c49a8a09250c",
   "metadata": {},
   "source": [
    "### Question 1 Load the file exchange_rates.csv as a dataframe and find the exchange rate for British pounds with the symbol GBP, \n",
    "store it in the variable exchange_rate, you will be asked for the number. Hint: set the parameter index_col to 0."
   ]
  },
  {
   "cell_type": "code",
   "execution_count": 13,
   "id": "d296aac6-f5ce-4f0f-8f87-98bbc4704c39",
   "metadata": {
    "tags": []
   },
   "outputs": [
    {
     "name": "stdout",
     "output_type": "stream",
     "text": [
      "The exchange rate for GBP is: 0.7323984208000001\n"
     ]
    }
   ],
   "source": [
    "# Write your code here\n",
    "# Load the CSV file into a dataframe\n",
    "df = pd.read_csv('exchange_rates.csv', index_col=0)\n",
    "\n",
    "# Find the exchange rate for GBP\n",
    "exchange_rate = df.loc['GBP', 'Rates']\n",
    "\n",
    "# Print the exchange rate for GBP\n",
    "print(\"The exchange rate for GBP is:\", exchange_rate)"
   ]
  },
  {
   "cell_type": "markdown",
   "id": "99f248fb-75dd-4a42-9322-f1407dff8ef4",
   "metadata": {},
   "source": [
    "# Transform\n",
    "\n",
    "Using exchange_rate and the exchange_rates.csv file find the exchange rate of USD to GBP. Write a transform function that\n",
    "\n",
    "Changes the Market Cap (US$ Billion) column from USD to GBP\n",
    "\n",
    "Rounds the Market Cap (US$ Billion)` column to 3 decimal places\n",
    "\n",
    "Rename Market Cap (US$ Billion) to Market Cap (GBP$ Billion)"
   ]
  },
  {
   "cell_type": "code",
   "execution_count": 14,
   "id": "bf2d37e6-9770-43ba-afe3-454658b4b7f0",
   "metadata": {
    "tags": []
   },
   "outputs": [],
   "source": [
    "def transform(df, exchange_rate):\n",
    "    # Convert the Market Cap (US$ Billion) column to GBP\n",
    "    df['Market Cap (GBP$ Billion)'] = df['Market Cap (US$ Billion)'] * exchange_rate\n",
    "    \n",
    "    # Round the Market Cap (GBP$ Billion) column to 3 decimal places\n",
    "    df['Market Cap (GBP$ Billion)'] = df['Market Cap (GBP$ Billion)'].round(3)\n",
    "    \n",
    "    # Drop the Market Cap (US$ Billion) column\n",
    "    df = df.drop(columns=['Market Cap (US$ Billion)'])\n",
    "    \n",
    "    # Rename the columns\n",
    "    df = df.rename(columns={'Company Name': 'Company', 'Sector': 'Industry'})\n",
    "    \n",
    "    return df\n"
   ]
  },
  {
   "cell_type": "code",
   "execution_count": 15,
   "id": "7b1ac06d-a575-4b94-9a6f-52f766cfec2b",
   "metadata": {
    "tags": []
   },
   "outputs": [
    {
     "name": "stdout",
     "output_type": "stream",
     "text": [
      "                                       Name  Market Cap (GBP$ Billion)\n",
      "0                            JPMorgan Chase                    286.319\n",
      "1   Industrial and Commercial Bank of China                    252.834\n",
      "2                           Bank of America                    238.272\n",
      "3                               Wells Fargo                    225.588\n",
      "4                   China Construction Bank                    188.519\n",
      "..                                      ...                        ...\n",
      "65                             Ping An Bank                     27.826\n",
      "66                       Standard Chartered                     27.332\n",
      "67                     United Overseas Bank                     25.728\n",
      "68                                QNB Group                     24.579\n",
      "69                              Bank Rakyat                     24.228\n",
      "\n",
      "[70 rows x 2 columns]\n"
     ]
    }
   ],
   "source": [
    "# Load the original dataframe\n",
    "df = pd.read_json('bank_market_cap_1.json')\n",
    "\n",
    "# Find the exchange rate for USD to GBP\n",
    "exchange_rates_df = pd.read_csv('exchange_rates.csv', index_col=0)\n",
    "exchange_rate = exchange_rates_df.loc['GBP', 'Rates']\n",
    "\n",
    "# Transform the dataframe\n",
    "df_transformed = transform(df, exchange_rate)\n",
    "\n",
    "# Print the transformed dataframe\n",
    "print(df_transformed)"
   ]
  },
  {
   "cell_type": "markdown",
   "id": "bc18b95e-1ef3-4b09-bca8-ea6df487028e",
   "metadata": {},
   "source": [
    "# Load\n",
    "\n",
    "Create a function that takes a dataframe and load it to a csv named bank_market_cap_gbp.csv. Make sure to set index to False."
   ]
  },
  {
   "cell_type": "code",
   "execution_count": 16,
   "id": "740340ed-b017-41ca-ab86-31ae4a8c5a01",
   "metadata": {
    "tags": []
   },
   "outputs": [],
   "source": [
    "def load(df):\n",
    "    data.to_csv('bank_market_cap.csv', index=False)\n",
    "\n",
    "    # Write your code here"
   ]
  },
  {
   "cell_type": "markdown",
   "id": "a29570bc-ad00-4627-80e1-4210ada86a58",
   "metadata": {},
   "source": [
    "# Logging Function\n",
    "\n",
    "Write the logging function log to log your dat"
   ]
  },
  {
   "cell_type": "code",
   "execution_count": 17,
   "id": "82aa11b2-df78-4909-bf94-b62cbf56a8eb",
   "metadata": {
    "tags": []
   },
   "outputs": [],
   "source": [
    "def log(data):\n",
    "    logging.basicConfig(filename='my_log.log', level=logging.DEBUG)\n",
    "    logging.info(f\"Data: {data}\")"
   ]
  },
  {
   "cell_type": "markdown",
   "id": "bec53738-0284-4ae8-8826-09b39fae2543",
   "metadata": {
    "tags": []
   },
   "source": [
    "# Running the ETL Process\n",
    "\n",
    "Log the process accordingly using the following \"ETL Job Started\" and \"Extract phase Started\""
   ]
  },
  {
   "cell_type": "code",
   "execution_count": 21,
   "id": "4a5a9275-aa47-4dc6-a373-0f7d45cbd390",
   "metadata": {
    "tags": []
   },
   "outputs": [],
   "source": [
    "# Set up logging\n",
    "import logging\n",
    "logging.basicConfig(filename='etl.log', level=logging.INFO, format='%(asctime)s:%(levelname)s:%(message)s')\n",
    "\n",
    "# Define extract function for JSON files\n",
    "def extract_json(file_path):\n",
    "    logging.info(f\"Extracting data from {file_path}\")\n",
    "    # Code to extract data from JSON file goes here\n",
    "    data = pd.read_json(file_path)\n",
    "    return data\n",
    "\n",
    "def extract_data():\n",
    "    logging.info(\"Extract phase Started\")\n",
    "    # Call the extract_json function to extract data from JSON files\n",
    "    data1 = extract_json('bank_market_cap_1.json')\n",
    "    data2 = extract_json('bank_market_cap_2.json')\n",
    "    # Combine the data into a single dataframe\n",
    "    data = pd.concat([data1, data2])\n",
    "    return data\n",
    "\n",
    "# Define the list of columns for the dataframe\n",
    "columns = ['bank_name', 'market_cap', 'country']\n",
    "\n",
    "# Define the ETL process function\n",
    "def run_etl():\n",
    "    logging.info(\"ETL Job Started\")\n",
    "    # Call the extract_data function to extract the data\n",
    "    data = extract_data()\n",
    "    # Do the rest of the ETL process here (transform and load)\n",
    "    # ...\n",
    "    logging.info(\"ETL Job Completed Successfully\")\n",
    "\n",
    "# Run the ETL process\n",
    "run_etl()"
   ]
  },
  {
   "cell_type": "markdown",
   "id": "10433ebd-0b1e-4389-bf0c-e372b427a50c",
   "metadata": {
    "tags": []
   },
   "source": [
    "# Extract\n",
    "\n",
    "Question 2 Use the function <code>extract</code>, and print the first 5 rows, take a screen shot:"
   ]
  },
  {
   "cell_type": "code",
   "execution_count": 24,
   "id": "849ddb17-f1e0-4a11-b836-a0d99642f928",
   "metadata": {
    "tags": []
   },
   "outputs": [
    {
     "name": "stdout",
     "output_type": "stream",
     "text": [
      "                                      Name  Market Cap (US$ Billion)\n",
      "0                           JPMorgan Chase                   390.934\n",
      "1  Industrial and Commercial Bank of China                   345.214\n",
      "2                          Bank of America                   325.331\n",
      "3                              Wells Fargo                   308.013\n",
      "4                  China Construction Bank                   257.399\n"
     ]
    }
   ],
   "source": [
    "# Call the function here\n",
    "data = extract_data()\n",
    "# Print the rows here\n",
    "print(data.head())"
   ]
  },
  {
   "cell_type": "markdown",
   "id": "378d21e4-8b95-4081-878a-911e66bdeb8b",
   "metadata": {
    "tags": []
   },
   "source": [
    " # Transform\n",
    "Log the following  <code>\"Transform phase Started\"</code>"
   ]
  },
  {
   "cell_type": "code",
   "execution_count": 53,
   "id": "61f86dcb-9514-4e93-8ffb-49d7820f9b19",
   "metadata": {
    "tags": []
   },
   "outputs": [],
   "source": [
    "transformed_data = transform_data(data, exchange_rate)"
   ]
  },
  {
   "cell_type": "code",
   "execution_count": 54,
   "id": "8f5fbac0-0c3a-4946-9ede-bd7656816300",
   "metadata": {
    "tags": []
   },
   "outputs": [
    {
     "name": "stdout",
     "output_type": "stream",
     "text": [
      "[ 8.4 16.8 25.2]\n"
     ]
    }
   ],
   "source": [
    "# Call the function here\n",
    "\n",
    "# Print the first 5 rows here\n",
    "print(transformed_data[:5])"
   ]
  },
  {
   "cell_type": "markdown",
   "id": "4b2d0b1e-a558-4c9b-92ea-2e7863571ead",
   "metadata": {},
   "source": [
    "# Question 3 Use the function transform and print the first 5 rows of the output, take a screen shot:"
   ]
  },
  {
   "cell_type": "markdown",
   "id": "b7525aed-aece-4f6c-a962-40474117a836",
   "metadata": {},
   "source": [
    "# Log your data \"Transform phase Ended\""
   ]
  },
  {
   "cell_type": "code",
   "execution_count": 56,
   "id": "c8db227f-47ce-440d-8bcf-78da822490f0",
   "metadata": {
    "tags": []
   },
   "outputs": [],
   "source": [
    "logging.info(\"Transform phase Started\")"
   ]
  },
  {
   "cell_type": "markdown",
   "id": "bca88453-7c05-4895-9c3b-781f8c9fe272",
   "metadata": {},
   "source": [
    "# Call the load function"
   ]
  },
  {
   "cell_type": "code",
   "execution_count": 57,
   "id": "fd38f0a3-2b8b-411b-9047-269e8417dfd9",
   "metadata": {
    "tags": []
   },
   "outputs": [],
   "source": [
    "# Write your code here\n",
    "def load_data(data, output_file):\n",
    "    logging.info(f\"Loading data to {output_file}\")\n",
    "    # Convert array to DataFrame\n",
    "    data_frame = pd.DataFrame(data)\n",
    "    # Save DataFrame to CSV\n",
    "    data_frame.to_csv(output_file, index=False)"
   ]
  },
  {
   "cell_type": "code",
   "execution_count": 58,
   "id": "13896987-0625-41f3-bea3-67bab1a66630",
   "metadata": {
    "tags": []
   },
   "outputs": [],
   "source": [
    "load_data(transformed_data, 'output.csv')"
   ]
  },
  {
   "cell_type": "markdown",
   "id": "82489343-f533-4380-b2a3-51842812355e",
   "metadata": {},
   "source": [
    "# Log the following \"Load phase Ended\"."
   ]
  },
  {
   "cell_type": "code",
   "execution_count": 59,
   "id": "facc3df0-8cfc-4e46-96c1-2184f7e33ea4",
   "metadata": {
    "tags": []
   },
   "outputs": [],
   "source": [
    "logging.info(\"Load phase Ended\")"
   ]
  }
 ],
 "metadata": {
  "kernelspec": {
   "display_name": "Python 3 (ipykernel)",
   "language": "python",
   "name": "python3"
  },
  "language_info": {
   "codemirror_mode": {
    "name": "ipython",
    "version": 3
   },
   "file_extension": ".py",
   "mimetype": "text/x-python",
   "name": "python",
   "nbconvert_exporter": "python",
   "pygments_lexer": "ipython3",
   "version": "3.10.9"
  }
 },
 "nbformat": 4,
 "nbformat_minor": 5
}
